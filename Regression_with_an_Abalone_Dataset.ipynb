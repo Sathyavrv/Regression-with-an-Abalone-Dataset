{
  "metadata": {
    "kaggle": {
      "accelerator": "gpu",
      "dataSources": [
        {
          "sourceId": 72489,
          "databundleVersionId": 8096274,
          "sourceType": "competition"
        },
        {
          "sourceId": 57419,
          "sourceType": "datasetVersion",
          "datasetId": 37691
        }
      ],
      "dockerImageVersionId": 30674,
      "isInternetEnabled": true,
      "language": "python",
      "sourceType": "notebook",
      "isGpuEnabled": true
    },
    "kernelspec": {
      "display_name": "Python 3",
      "language": "python",
      "name": "python3"
    },
    "language_info": {
      "name": "python",
      "version": "3.10.13",
      "mimetype": "text/x-python",
      "codemirror_mode": {
        "name": "ipython",
        "version": 3
      },
      "pygments_lexer": "ipython3",
      "nbconvert_exporter": "python",
      "file_extension": ".py"
    },
    "papermill": {
      "default_parameters": {},
      "duration": 267.209901,
      "end_time": "2024-04-02T10:52:26.992053",
      "environment_variables": {},
      "exception": null,
      "input_path": "__notebook__.ipynb",
      "output_path": "__notebook__.ipynb",
      "parameters": {},
      "start_time": "2024-04-02T10:47:59.782152",
      "version": "2.5.0"
    },
    "colab": {
      "name": "Regression with an Abalone Dataset",
      "provenance": []
    }
  },
  "nbformat_minor": 0,
  "nbformat": 4,
  "cells": [
    {
      "cell_type": "markdown",
      "source": [
        "### **Regression with an Abalone Dataset**\n",
        "\n",
        "**Dataset Description**\n",
        "The dataset for this competition (both train and test) was generated from a deep learning model trained on the Abalone dataset. Feature distributions are close to, but not exactly the same, as the original. Feel free to use the original dataset as part of this competition, both to explore differences as well as to see whether incorporating the original in training improves model performance.\n",
        "\n",
        "**Files**\n",
        "train.csv - the training dataset; Rings is the integer target\n",
        "test.csv - the test dataset; your objective is to predict the value of Rings for each row\n",
        "sample_submission.csv - a sample submission file in the correct format\n",
        "\n",
        "Link to the competition : https://www.kaggle.com/competitions/playground-series-s4e4/overview\n",
        "\n",
        "by [Sathya Narayanan](https://github.com/Sathyavrv)\n",
        "\n",
        "\n",
        "#### Goal of the Competition\n",
        "\n",
        "The goal of this competition is to predict the age of abalone from various physical measurements."
      ],
      "metadata": {
        "id": "mYkCjzZ4liII"
      }
    },
    {
      "cell_type": "markdown",
      "source": [
        "<p align=center>\n",
        "<img src=\"https://www.kaggle.com/competitions/72489/images/header\" width=\"80%\" align=\"center\"></p>"
      ],
      "metadata": {
        "id": "1nSlHx-Ylxmn"
      }
    },
    {
      "source": [
        "\n",
        "# IMPORTANT: RUN THIS CELL IN ORDER TO IMPORT YOUR KAGGLE DATA SOURCES\n",
        "# TO THE CORRECT LOCATION (/kaggle/input) IN YOUR NOTEBOOK,\n",
        "# THEN FEEL FREE TO DELETE THIS CELL.\n",
        "# NOTE: THIS NOTEBOOK ENVIRONMENT DIFFERS FROM KAGGLE'S PYTHON\n",
        "# ENVIRONMENT SO THERE MAY BE MISSING LIBRARIES USED BY YOUR\n",
        "# NOTEBOOK.\n",
        "\n",
        "import os\n",
        "import sys\n",
        "from tempfile import NamedTemporaryFile\n",
        "from urllib.request import urlopen\n",
        "from urllib.parse import unquote, urlparse\n",
        "from urllib.error import HTTPError\n",
        "from zipfile import ZipFile\n",
        "import tarfile\n",
        "import shutil\n",
        "\n",
        "CHUNK_SIZE = 40960\n",
        "DATA_SOURCE_MAPPING = 'playground-series-s4e4:https%3A%2F%2Fstorage.googleapis.com%2Fkaggle-competitions-data%2Fkaggle-v2%2F72489%2F8096274%2Fbundle%2Farchive.zip%3FX-Goog-Algorithm%3DGOOG4-RSA-SHA256%26X-Goog-Credential%3Dgcp-kaggle-com%2540kaggle-161607.iam.gserviceaccount.com%252F20240409%252Fauto%252Fstorage%252Fgoog4_request%26X-Goog-Date%3D20240409T064016Z%26X-Goog-Expires%3D259200%26X-Goog-SignedHeaders%3Dhost%26X-Goog-Signature%3D60f7143d8ab54b0fb6ba9d88edad367afa462b91c1073f818a3187062baf209a659b174252136efed91fe0daaa8df75292205b119febdaaf83f0223c213401a3dccc6b39235fd975012c1b7fb1356d4b58bb173d15e3f98af0f2d4b2669a679d51fcea887b4bfaf71dc3172016dc240be4c0bb5545d7736118b1dff054c5f146467e716e1a424b94d0bc86ab530845bb269e730a1528b3678124b84cadc4217c56c47e2d00e958d383927d4d1b5fcea67eb1b0f738b52d301cd62326b477c727f9401ae4675a49be18f5a06685cfabfa154b586eac4629c2f58b443a7b8948dc8b30991f50f7c0baccddea4b6c6873eaaf36da17ae97afaf8eff731647cd6080,abalone-dataset:https%3A%2F%2Fstorage.googleapis.com%2Fkaggle-data-sets%2F37691%2F57419%2Fbundle%2Farchive.zip%3FX-Goog-Algorithm%3DGOOG4-RSA-SHA256%26X-Goog-Credential%3Dgcp-kaggle-com%2540kaggle-161607.iam.gserviceaccount.com%252F20240409%252Fauto%252Fstorage%252Fgoog4_request%26X-Goog-Date%3D20240409T064016Z%26X-Goog-Expires%3D259200%26X-Goog-SignedHeaders%3Dhost%26X-Goog-Signature%3Db34acfd6d19f385a76a307988714a55b9f608df8a9441b5140be1093b14cd347dd4289f31da168ced30d013a183d66a12a11c7ef10689c78465afc253e092a61cb6ed528019ba819c3ed9ec92533dc3bfa5a910f89adc2d6954a549324dfa8321c75694e0d18cdf931e4b8f03f39435f597e950615932bc6de9101d626d1923fb1db1f91e618807974935b4993ed6a9e8416f2a6029f60e106e630f39d261f02c811b1227b78a9636d97119907ba6681a9fd8a1e489e8ece9c8ce29c26c24c4f5d218ec4be9c5585db756294fc7831fa6c1e285acf7f84bddda04bca810e1272a4f027c7ee0c168a7d4eae1a013b5c12693e844654227d13cb049fad30ac2f57'\n",
        "\n",
        "KAGGLE_INPUT_PATH='/kaggle/input'\n",
        "KAGGLE_WORKING_PATH='/kaggle/working'\n",
        "KAGGLE_SYMLINK='kaggle'\n",
        "\n",
        "!umount /kaggle/input/ 2> /dev/null\n",
        "shutil.rmtree('/kaggle/input', ignore_errors=True)\n",
        "os.makedirs(KAGGLE_INPUT_PATH, 0o777, exist_ok=True)\n",
        "os.makedirs(KAGGLE_WORKING_PATH, 0o777, exist_ok=True)\n",
        "\n",
        "try:\n",
        "  os.symlink(KAGGLE_INPUT_PATH, os.path.join(\"..\", 'input'), target_is_directory=True)\n",
        "except FileExistsError:\n",
        "  pass\n",
        "try:\n",
        "  os.symlink(KAGGLE_WORKING_PATH, os.path.join(\"..\", 'working'), target_is_directory=True)\n",
        "except FileExistsError:\n",
        "  pass\n",
        "\n",
        "for data_source_mapping in DATA_SOURCE_MAPPING.split(','):\n",
        "    directory, download_url_encoded = data_source_mapping.split(':')\n",
        "    download_url = unquote(download_url_encoded)\n",
        "    filename = urlparse(download_url).path\n",
        "    destination_path = os.path.join(KAGGLE_INPUT_PATH, directory)\n",
        "    try:\n",
        "        with urlopen(download_url) as fileres, NamedTemporaryFile() as tfile:\n",
        "            total_length = fileres.headers['content-length']\n",
        "            print(f'Downloading {directory}, {total_length} bytes compressed')\n",
        "            dl = 0\n",
        "            data = fileres.read(CHUNK_SIZE)\n",
        "            while len(data) > 0:\n",
        "                dl += len(data)\n",
        "                tfile.write(data)\n",
        "                done = int(50 * dl / int(total_length))\n",
        "                sys.stdout.write(f\"\\r[{'=' * done}{' ' * (50-done)}] {dl} bytes downloaded\")\n",
        "                sys.stdout.flush()\n",
        "                data = fileres.read(CHUNK_SIZE)\n",
        "            if filename.endswith('.zip'):\n",
        "              with ZipFile(tfile) as zfile:\n",
        "                zfile.extractall(destination_path)\n",
        "            else:\n",
        "              with tarfile.open(tfile.name) as tarfile:\n",
        "                tarfile.extractall(destination_path)\n",
        "            print(f'\\nDownloaded and uncompressed: {directory}')\n",
        "    except HTTPError as e:\n",
        "        print(f'Failed to load (likely expired) {download_url} to path {destination_path}')\n",
        "        continue\n",
        "    except OSError as e:\n",
        "        print(f'Failed to load {download_url} to path {destination_path}')\n",
        "        continue\n",
        "\n",
        "print('Data source import complete.')\n"
      ],
      "metadata": {
        "id": "Kal_BgkVlgk4"
      },
      "cell_type": "code",
      "outputs": [],
      "execution_count": null
    },
    {
      "cell_type": "code",
      "source": [
        "import warnings\n",
        "warnings.filterwarnings(\"ignore\")"
      ],
      "metadata": {
        "execution": {
          "iopub.status.busy": "2024-04-05T14:20:49.702522Z",
          "iopub.execute_input": "2024-04-05T14:20:49.703407Z",
          "iopub.status.idle": "2024-04-05T14:20:49.715584Z",
          "shell.execute_reply.started": "2024-04-05T14:20:49.703365Z",
          "shell.execute_reply": "2024-04-05T14:20:49.714804Z"
        },
        "trusted": true,
        "id": "hWMutXYdlgk7"
      },
      "execution_count": null,
      "outputs": []
    },
    {
      "cell_type": "code",
      "source": [
        "!pip install -U scikit-learn -q"
      ],
      "metadata": {
        "execution": {
          "iopub.status.busy": "2024-04-05T14:20:49.717333Z",
          "iopub.execute_input": "2024-04-05T14:20:49.717621Z",
          "iopub.status.idle": "2024-04-05T14:21:07.16852Z",
          "shell.execute_reply.started": "2024-04-05T14:20:49.717597Z",
          "shell.execute_reply": "2024-04-05T14:21:07.167591Z"
        },
        "trusted": true,
        "id": "234aYzZtlgk7",
        "outputId": "21261674-c065-4407-9b60-9e0a7b0924c6"
      },
      "execution_count": null,
      "outputs": [
        {
          "name": "stdout",
          "text": "\u001b[31mERROR: pip's dependency resolver does not currently take into account all the packages that are installed. This behaviour is the source of the following dependency conflicts.\nspopt 0.6.0 requires shapely>=2.0.1, but you have shapely 1.8.5.post1 which is incompatible.\u001b[0m\u001b[31m\n\u001b[0m",
          "output_type": "stream"
        }
      ]
    },
    {
      "cell_type": "code",
      "source": [
        "from sklearn.model_selection import train_test_split, cross_val_score, StratifiedKFold\n",
        "from sklearn.metrics import make_scorer, mean_squared_error, root_mean_squared_error\n",
        "from sklearn.ensemble import RandomForestRegressor\n",
        "from sklearn.preprocessing import OneHotEncoder\n",
        "from sklearn.ensemble import VotingRegressor\n",
        "from catboost import CatBoostRegressor\n",
        "from lightgbm import LGBMRegressor\n",
        "from xgboost import XGBRegressor\n",
        "import matplotlib.pyplot as plt\n",
        "from sklearn.base import copy\n",
        "import pandas as pd\n",
        "import numpy as np\n",
        "import random\n",
        "import optuna"
      ],
      "metadata": {
        "_cell_guid": "b1076dfc-b9ad-4769-8c92-a6c4dae69d19",
        "_uuid": "8f2839f25d086af736a60e9eeb907d3b93b6e0e5",
        "papermill": {
          "duration": 5.122272,
          "end_time": "2024-04-02T10:48:07.678245",
          "exception": false,
          "start_time": "2024-04-02T10:48:02.555973",
          "status": "completed"
        },
        "tags": [],
        "execution": {
          "iopub.status.busy": "2024-04-05T14:21:07.169866Z",
          "iopub.execute_input": "2024-04-05T14:21:07.170132Z",
          "iopub.status.idle": "2024-04-05T14:21:12.262532Z",
          "shell.execute_reply.started": "2024-04-05T14:21:07.170107Z",
          "shell.execute_reply": "2024-04-05T14:21:12.261498Z"
        },
        "trusted": true,
        "id": "G9k5pMvllgk8"
      },
      "execution_count": null,
      "outputs": []
    },
    {
      "cell_type": "code",
      "source": [
        "RANDOM_SEED = 42\n",
        "FIND_BEST_PARAMS = False\n",
        "\n",
        "\n",
        "np.random.seed(RANDOM_SEED)\n",
        "random.seed(RANDOM_SEED)"
      ],
      "metadata": {
        "execution": {
          "iopub.status.busy": "2024-04-05T14:21:12.264657Z",
          "iopub.execute_input": "2024-04-05T14:21:12.265502Z",
          "iopub.status.idle": "2024-04-05T14:21:12.270596Z",
          "shell.execute_reply.started": "2024-04-05T14:21:12.265475Z",
          "shell.execute_reply": "2024-04-05T14:21:12.269808Z"
        },
        "trusted": true,
        "id": "D93938Pnlgk8"
      },
      "execution_count": null,
      "outputs": []
    },
    {
      "cell_type": "code",
      "source": [
        "train   = pd.read_csv('/kaggle/input/playground-series-s4e4/train.csv')\n",
        "orginal = pd.read_csv('/kaggle/input/abalone-dataset/abalone.csv')\n",
        "test    = pd.read_csv('/kaggle/input/playground-series-s4e4/test.csv')"
      ],
      "metadata": {
        "execution": {
          "iopub.status.busy": "2024-04-05T14:21:12.271582Z",
          "iopub.execute_input": "2024-04-05T14:21:12.271864Z",
          "iopub.status.idle": "2024-04-05T14:21:12.590978Z",
          "shell.execute_reply.started": "2024-04-05T14:21:12.27184Z",
          "shell.execute_reply": "2024-04-05T14:21:12.5901Z"
        },
        "trusted": true,
        "id": "veYKpuJglgk9"
      },
      "execution_count": null,
      "outputs": []
    },
    {
      "cell_type": "code",
      "source": [
        "train = train.drop(['id'], axis = 1)\n",
        "train.columns = orginal.columns\n",
        "train = pd.concat([train, orginal], axis = 0, ignore_index=True)\n",
        "\n",
        "y = train['Rings']\n",
        "# Because RMSLE score, We make a conversion like below:\n",
        "y_log = np.log(1+y)\n",
        "# Add the end for getting the result we back to original like below:\n",
        "# y = np.exp(y_log)-1\n",
        "\n",
        "\n",
        "train = train.drop(['Rings'], axis = 1)\n",
        "train.head()"
      ],
      "metadata": {
        "execution": {
          "iopub.status.busy": "2024-04-05T14:21:12.592022Z",
          "iopub.execute_input": "2024-04-05T14:21:12.592279Z",
          "iopub.status.idle": "2024-04-05T14:21:12.636848Z",
          "shell.execute_reply.started": "2024-04-05T14:21:12.592258Z",
          "shell.execute_reply": "2024-04-05T14:21:12.635906Z"
        },
        "trusted": true,
        "id": "77ox-A37lgk9",
        "outputId": "6263ed8b-7787-4d43-8952-6800924c1442"
      },
      "execution_count": null,
      "outputs": [
        {
          "execution_count": 6,
          "output_type": "execute_result",
          "data": {
            "text/plain": "  Sex  Length  Diameter  Height  Whole weight  Shucked weight  Viscera weight  \\\n0   F   0.550     0.430   0.150        0.7715          0.3285          0.1465   \n1   F   0.630     0.490   0.145        1.1300          0.4580          0.2765   \n2   I   0.160     0.110   0.025        0.0210          0.0055          0.0030   \n3   M   0.595     0.475   0.150        0.9145          0.3755          0.2055   \n4   I   0.555     0.425   0.130        0.7820          0.3695          0.1600   \n\n   Shell weight  \n0        0.2400  \n1        0.3200  \n2        0.0050  \n3        0.2500  \n4        0.1975  ",
            "text/html": "<div>\n<style scoped>\n    .dataframe tbody tr th:only-of-type {\n        vertical-align: middle;\n    }\n\n    .dataframe tbody tr th {\n        vertical-align: top;\n    }\n\n    .dataframe thead th {\n        text-align: right;\n    }\n</style>\n<table border=\"1\" class=\"dataframe\">\n  <thead>\n    <tr style=\"text-align: right;\">\n      <th></th>\n      <th>Sex</th>\n      <th>Length</th>\n      <th>Diameter</th>\n      <th>Height</th>\n      <th>Whole weight</th>\n      <th>Shucked weight</th>\n      <th>Viscera weight</th>\n      <th>Shell weight</th>\n    </tr>\n  </thead>\n  <tbody>\n    <tr>\n      <th>0</th>\n      <td>F</td>\n      <td>0.550</td>\n      <td>0.430</td>\n      <td>0.150</td>\n      <td>0.7715</td>\n      <td>0.3285</td>\n      <td>0.1465</td>\n      <td>0.2400</td>\n    </tr>\n    <tr>\n      <th>1</th>\n      <td>F</td>\n      <td>0.630</td>\n      <td>0.490</td>\n      <td>0.145</td>\n      <td>1.1300</td>\n      <td>0.4580</td>\n      <td>0.2765</td>\n      <td>0.3200</td>\n    </tr>\n    <tr>\n      <th>2</th>\n      <td>I</td>\n      <td>0.160</td>\n      <td>0.110</td>\n      <td>0.025</td>\n      <td>0.0210</td>\n      <td>0.0055</td>\n      <td>0.0030</td>\n      <td>0.0050</td>\n    </tr>\n    <tr>\n      <th>3</th>\n      <td>M</td>\n      <td>0.595</td>\n      <td>0.475</td>\n      <td>0.150</td>\n      <td>0.9145</td>\n      <td>0.3755</td>\n      <td>0.2055</td>\n      <td>0.2500</td>\n    </tr>\n    <tr>\n      <th>4</th>\n      <td>I</td>\n      <td>0.555</td>\n      <td>0.425</td>\n      <td>0.130</td>\n      <td>0.7820</td>\n      <td>0.3695</td>\n      <td>0.1600</td>\n      <td>0.1975</td>\n    </tr>\n  </tbody>\n</table>\n</div>"
          },
          "metadata": {}
        }
      ]
    },
    {
      "cell_type": "code",
      "source": [
        "test_id = test['id']\n",
        "test = test.drop('id', axis = 1)\n",
        "test.columns = train.columns\n",
        "test.head()"
      ],
      "metadata": {
        "papermill": {
          "duration": 0.279287,
          "end_time": "2024-04-02T10:48:07.97413",
          "exception": false,
          "start_time": "2024-04-02T10:48:07.694843",
          "status": "completed"
        },
        "tags": [],
        "execution": {
          "iopub.status.busy": "2024-04-05T14:21:12.63814Z",
          "iopub.execute_input": "2024-04-05T14:21:12.63848Z",
          "iopub.status.idle": "2024-04-05T14:21:12.656217Z",
          "shell.execute_reply.started": "2024-04-05T14:21:12.638449Z",
          "shell.execute_reply": "2024-04-05T14:21:12.655385Z"
        },
        "trusted": true,
        "id": "Hf1I7zrMlgk9",
        "outputId": "72074a95-ed1f-4a5d-9a4e-26e28020f33e"
      },
      "execution_count": null,
      "outputs": [
        {
          "execution_count": 7,
          "output_type": "execute_result",
          "data": {
            "text/plain": "  Sex  Length  Diameter  Height  Whole weight  Shucked weight  Viscera weight  \\\n0   M   0.645     0.475   0.155        1.2380          0.6185          0.3125   \n1   M   0.580     0.460   0.160        0.9830          0.4785          0.2195   \n2   M   0.560     0.420   0.140        0.8395          0.3525          0.1845   \n3   M   0.570     0.490   0.145        0.8740          0.3525          0.1865   \n4   I   0.415     0.325   0.110        0.3580          0.1575          0.0670   \n\n   Shell weight  \n0        0.3005  \n1        0.2750  \n2        0.2405  \n3        0.2350  \n4        0.1050  ",
            "text/html": "<div>\n<style scoped>\n    .dataframe tbody tr th:only-of-type {\n        vertical-align: middle;\n    }\n\n    .dataframe tbody tr th {\n        vertical-align: top;\n    }\n\n    .dataframe thead th {\n        text-align: right;\n    }\n</style>\n<table border=\"1\" class=\"dataframe\">\n  <thead>\n    <tr style=\"text-align: right;\">\n      <th></th>\n      <th>Sex</th>\n      <th>Length</th>\n      <th>Diameter</th>\n      <th>Height</th>\n      <th>Whole weight</th>\n      <th>Shucked weight</th>\n      <th>Viscera weight</th>\n      <th>Shell weight</th>\n    </tr>\n  </thead>\n  <tbody>\n    <tr>\n      <th>0</th>\n      <td>M</td>\n      <td>0.645</td>\n      <td>0.475</td>\n      <td>0.155</td>\n      <td>1.2380</td>\n      <td>0.6185</td>\n      <td>0.3125</td>\n      <td>0.3005</td>\n    </tr>\n    <tr>\n      <th>1</th>\n      <td>M</td>\n      <td>0.580</td>\n      <td>0.460</td>\n      <td>0.160</td>\n      <td>0.9830</td>\n      <td>0.4785</td>\n      <td>0.2195</td>\n      <td>0.2750</td>\n    </tr>\n    <tr>\n      <th>2</th>\n      <td>M</td>\n      <td>0.560</td>\n      <td>0.420</td>\n      <td>0.140</td>\n      <td>0.8395</td>\n      <td>0.3525</td>\n      <td>0.1845</td>\n      <td>0.2405</td>\n    </tr>\n    <tr>\n      <th>3</th>\n      <td>M</td>\n      <td>0.570</td>\n      <td>0.490</td>\n      <td>0.145</td>\n      <td>0.8740</td>\n      <td>0.3525</td>\n      <td>0.1865</td>\n      <td>0.2350</td>\n    </tr>\n    <tr>\n      <th>4</th>\n      <td>I</td>\n      <td>0.415</td>\n      <td>0.325</td>\n      <td>0.110</td>\n      <td>0.3580</td>\n      <td>0.1575</td>\n      <td>0.0670</td>\n      <td>0.1050</td>\n    </tr>\n  </tbody>\n</table>\n</div>"
          },
          "metadata": {}
        }
      ]
    },
    {
      "cell_type": "code",
      "source": [
        "encoder = OneHotEncoder(sparse_output = False, handle_unknown = 'ignore')\n",
        "\n",
        "train = pd.concat([\n",
        "                    train.iloc[:,1:],\n",
        "                    pd.DataFrame(encoder.fit_transform(train[['Sex']]).astype('int'),\n",
        "                                 columns = encoder.categories_[0])\n",
        "                    ],\n",
        "                    axis = 1\n",
        "                )\n",
        "\n",
        "test  = pd.concat([\n",
        "                    test.iloc[:,1:],\n",
        "                    pd.DataFrame(encoder.transform(test[['Sex']]).astype('int'),\n",
        "                                 columns = encoder.categories_[0])\n",
        "                    ],\n",
        "                    axis = 1\n",
        "                )"
      ],
      "metadata": {
        "papermill": {
          "duration": 0.075281,
          "end_time": "2024-04-02T10:48:08.512815",
          "exception": false,
          "start_time": "2024-04-02T10:48:08.437534",
          "status": "completed"
        },
        "tags": [],
        "execution": {
          "iopub.status.busy": "2024-04-05T14:21:12.657249Z",
          "iopub.execute_input": "2024-04-05T14:21:12.657543Z",
          "iopub.status.idle": "2024-04-05T14:21:12.723592Z",
          "shell.execute_reply.started": "2024-04-05T14:21:12.657519Z",
          "shell.execute_reply": "2024-04-05T14:21:12.722804Z"
        },
        "trusted": true,
        "id": "vbNI8W45lgk-"
      },
      "execution_count": null,
      "outputs": []
    },
    {
      "cell_type": "code",
      "source": [
        "%%time\n",
        "\n",
        "\n",
        "def objective(trial):\n",
        "\n",
        "    params = {\n",
        "        \"verbose\": False,\n",
        "        \"iterations\": 1000,\n",
        "        \"loss_function\":'RMSE',\n",
        "        \"random_state\": RANDOM_SEED,\n",
        "        \"depth\": trial.suggest_int(\"depth\", 3, 15),\n",
        "        \"subsample\": trial.suggest_float(\"subsample\", 0.01, 1.0),\n",
        "        \"min_data_in_leaf\": trial.suggest_int(\"min_data_in_leaf\", 1, 100),\n",
        "        \"colsample_bylevel\": trial.suggest_float(\"colsample_bylevel\", 0.01, 1.0),\n",
        "        \"learning_rate\": trial.suggest_float(\"learning_rate\", 1e-3, 0.1, log=True),\n",
        "    }\n",
        "\n",
        "    cv = StratifiedKFold(n_splits=5, shuffle=True, random_state=RANDOM_SEED)\n",
        "    scores = []\n",
        "    for _, (train_index, valid_index) in enumerate(cv.split(train, y)):\n",
        "        X_train, y_train = train.iloc[train_index], y_log.iloc[train_index]\n",
        "        X_valid, y_valid = train.iloc[valid_index], y_log.iloc[valid_index]\n",
        "        model = CatBoostRegressor(**params)\n",
        "\n",
        "        model.fit(X_train, y_train,\n",
        "                  eval_set=(X_valid, y_valid),\n",
        "                  early_stopping_rounds=100)\n",
        "\n",
        "        y_pred = model.predict(X_valid)\n",
        "        scores = root_mean_squared_error(y_valid, y_pred)\n",
        "    return np.mean(scores)\n",
        "\n",
        "\n",
        "study = optuna.create_study(direction='minimize', study_name=\"optuna_catboost\")\n",
        "if FIND_BEST_PARAMS:\n",
        "    study.optimize(objective, n_trials=50)\n",
        "    print(f\"Best trial average RMSE: {study.best_value:.4f}\")\n",
        "    for key, value in study.best_params.items():\n",
        "        print(f\"{key}: {value}\")"
      ],
      "metadata": {
        "execution": {
          "iopub.status.busy": "2024-04-05T14:21:12.72625Z",
          "iopub.execute_input": "2024-04-05T14:21:12.726542Z",
          "iopub.status.idle": "2024-04-05T14:21:12.738211Z",
          "shell.execute_reply.started": "2024-04-05T14:21:12.726519Z",
          "shell.execute_reply": "2024-04-05T14:21:12.737299Z"
        },
        "trusted": true,
        "id": "YQo2d36xlgk-",
        "outputId": "7b28c03a-83da-4f98-8852-1b31287d781d"
      },
      "execution_count": null,
      "outputs": [
        {
          "name": "stderr",
          "text": "[I 2024-04-05 14:21:12,731] A new study created in memory with name: optuna_catboost\n",
          "output_type": "stream"
        },
        {
          "name": "stdout",
          "text": "CPU times: user 1.8 ms, sys: 1.13 ms, total: 2.94 ms\nWall time: 2.21 ms\n",
          "output_type": "stream"
        }
      ]
    },
    {
      "cell_type": "code",
      "source": [
        "%%time\n",
        "\n",
        "\n",
        "def objective(trial):\n",
        "\n",
        "    params = {\n",
        "        'n_jobs':-1,\n",
        "        \"metric\":'rmse',\n",
        "        \"verbosity\": -1,\n",
        "        \"bagging_freq\": 1,\n",
        "        \"boosting_type\": \"gbdt\",\n",
        "        \"objective\":'regression',\n",
        "        'random_state':RANDOM_SEED,\n",
        "        'max_depth': trial.suggest_int('max_depth', 3, 15),\n",
        "        \"subsample\": trial.suggest_float(\"subsample\", 0.05, 1.0),\n",
        "        \"n_estimators\": trial.suggest_int('n_estimators', 400, 1000),\n",
        "        \"min_data_in_leaf\": trial.suggest_int(\"min_data_in_leaf\", 1, 100),\n",
        "        \"learning_rate\": trial.suggest_float(\"learning_rate\", 0.005, 0.01),\n",
        "        'min_child_samples': trial.suggest_int('min_child_samples', 10, 60),\n",
        "        'lambda_l1': trial.suggest_float('lambda_l1', 1e-8, 10.0, log=True),\n",
        "        'lambda_l2': trial.suggest_float('lambda_l2', 1e-8, 10.0, log=True),\n",
        "        \"colsample_bytree\": trial.suggest_float(\"colsample_bytree\", 0.3, 1.0),\n",
        "    }\n",
        "\n",
        "    cv = StratifiedKFold(n_splits=5, shuffle=True, random_state=RANDOM_SEED)\n",
        "    scores = []\n",
        "    for _, (train_index, valid_index) in enumerate(cv.split(train, y)):\n",
        "        X_train, y_train = train.iloc[train_index], y_log.iloc[train_index]\n",
        "        X_valid, y_valid = train.iloc[valid_index], y_log.iloc[valid_index]\n",
        "        model = LGBMRegressor(**params)\n",
        "        model.fit(X_train, y_train)\n",
        "        y_pred = model.predict(X_valid)\n",
        "        scores = root_mean_squared_error(y_valid, y_pred)\n",
        "    return np.mean(scores)\n",
        "\n",
        "\n",
        "study = optuna.create_study(direction='minimize', study_name=\"optuna_lgbm\")\n",
        "if FIND_BEST_PARAMS:\n",
        "    study.optimize(objective, n_trials=50)\n",
        "    print(f\"Best trial average RMSE: {study.best_value:.4f}\")\n",
        "    for key, value in study.best_params.items():\n",
        "        print(f\"{key}: {value}\")"
      ],
      "metadata": {
        "execution": {
          "iopub.status.busy": "2024-04-05T14:21:12.739144Z",
          "iopub.execute_input": "2024-04-05T14:21:12.739398Z",
          "iopub.status.idle": "2024-04-05T14:21:12.754447Z",
          "shell.execute_reply.started": "2024-04-05T14:21:12.739374Z",
          "shell.execute_reply": "2024-04-05T14:21:12.753627Z"
        },
        "trusted": true,
        "id": "jGuHnWa-lgk-",
        "outputId": "5bc18e15-2c16-405f-f15f-99586a6d75ea"
      },
      "execution_count": null,
      "outputs": [
        {
          "name": "stderr",
          "text": "[I 2024-04-05 14:21:12,748] A new study created in memory with name: optuna_lgbm\n",
          "output_type": "stream"
        },
        {
          "name": "stdout",
          "text": "CPU times: user 1.31 ms, sys: 74 µs, total: 1.38 ms\nWall time: 1.02 ms\n",
          "output_type": "stream"
        }
      ]
    },
    {
      "cell_type": "code",
      "source": [
        "%%time\n",
        "\n",
        "\n",
        "def objective(trial):\n",
        "\n",
        "    params = {\n",
        "        'eval_metric': 'rmse',\n",
        "        'random_state': RANDOM_SEED,\n",
        "        'objective': 'reg:squarederror',\n",
        "        'gamma': trial.suggest_float(\"gamma\", 1e-2, 1.0),\n",
        "        'max_depth': trial.suggest_int('max_depth',2, 20),\n",
        "        'subsample': trial.suggest_float(\"subsample\", 0.05, 1.0),\n",
        "        'n_estimators': trial.suggest_int('n_estimators',100, 1000),\n",
        "        'min_child_weight': trial.suggest_int('min_child_weight',2, 20),\n",
        "        'colsample_bytree': trial.suggest_float(\"colsample_bytree\", 0.05, 1.0),\n",
        "        'learning_rate': trial.suggest_float(\"learning_rate\", 1e-3, 0.1, log=True),\n",
        "    }\n",
        "\n",
        "    cv = StratifiedKFold(n_splits=5, shuffle=True, random_state=RANDOM_SEED)\n",
        "    scores = []\n",
        "    for _, (train_index, valid_index) in enumerate(cv.split(train, y)):\n",
        "        X_train, y_train = train.iloc[train_index], y_log.iloc[train_index]\n",
        "        X_valid, y_valid = train.iloc[valid_index], y_log.iloc[valid_index]\n",
        "        model = XGBRegressor(**params)\n",
        "        model.fit(X_train, y_train)\n",
        "        y_pred = model.predict(X_valid)\n",
        "        scores = root_mean_squared_error(y_valid, y_pred)\n",
        "    return np.mean(scores)\n",
        "\n",
        "\n",
        "study = optuna.create_study(direction='minimize', study_name=\"optuna_xgboost\")\n",
        "if FIND_BEST_PARAMS:\n",
        "    study.optimize(objective, n_trials=50)\n",
        "    print(f\"Best trial average RMSE: {study.best_value:.4f}\")\n",
        "    for key, value in study.best_params.items():\n",
        "        print(f\"{key}: {value}\")"
      ],
      "metadata": {
        "execution": {
          "iopub.status.busy": "2024-04-05T14:21:12.755382Z",
          "iopub.execute_input": "2024-04-05T14:21:12.755638Z",
          "iopub.status.idle": "2024-04-05T14:21:12.773972Z",
          "shell.execute_reply.started": "2024-04-05T14:21:12.755614Z",
          "shell.execute_reply": "2024-04-05T14:21:12.773185Z"
        },
        "trusted": true,
        "id": "6Xxn89WGlgk-",
        "outputId": "cf73dff2-f56e-4bc5-ba30-583905867ce9"
      },
      "execution_count": null,
      "outputs": [
        {
          "name": "stderr",
          "text": "[I 2024-04-05 14:21:12,768] A new study created in memory with name: optuna_xgboost\n",
          "output_type": "stream"
        },
        {
          "name": "stdout",
          "text": "CPU times: user 1.27 ms, sys: 67 µs, total: 1.34 ms\nWall time: 1.01 ms\n",
          "output_type": "stream"
        }
      ]
    },
    {
      "cell_type": "code",
      "source": [
        "xgboost_params = {\n",
        "    'verbosity': 0,\n",
        "    'max_depth': 10,\n",
        "    'device': 'cuda',\n",
        "    'booster': 'dart',\n",
        "    'eval_metric': 'rmsle',\n",
        "    'random_state':RANDOM_SEED,\n",
        "    'lambda': 0.456836886068415,\n",
        "    'alpha': 0.6422509164613671,\n",
        "    'subsample': 0.8365423486036913,\n",
        "    'objective': 'reg:squaredlogerror',\n",
        "    'learning_rate': 0.09884907639400813,\n",
        "    'colsample_bytree': 0.8111849113860014,\n",
        "}\n",
        "\n",
        "catboost_params = {\n",
        "    'depth': 15,\n",
        "    'max_bin': 464,\n",
        "    'verbose': False,\n",
        "    'task_type': 'GPU',\n",
        "    'eval_metric': 'RMSE',\n",
        "    'min_data_in_leaf': 78,\n",
        "    'loss_function': 'RMSE',\n",
        "    'grow_policy': 'Lossguide',\n",
        "    'random_state':RANDOM_SEED,\n",
        "    'bootstrap_type': 'Bernoulli',\n",
        "    'subsample': 0.83862137638162,\n",
        "    'l2_leaf_reg': 8.365422739510098,\n",
        "    'random_strength': 3.296124856352495,\n",
        "    'learning_rate': 0.09992185242598203,\n",
        "}\n",
        "\n",
        "lgbm_params = {\n",
        "    'verbosity': -1,\n",
        "    'device': 'gpu',\n",
        "    'metric': 'rmse',\n",
        "    'num_leaves': 176,\n",
        "    'bagging_freq': 7,\n",
        "    'boosting_type': 'gbdt',\n",
        "    'min_child_samples': 91,\n",
        "    'objective': 'regression',\n",
        "    'random_state':RANDOM_SEED,\n",
        "    'learning_rate': 0.07351805347801958,\n",
        "    'bagging_fraction': 0.6502062728410578,\n",
        "    'feature_fraction': 0.7058843944694884,\n",
        "}"
      ],
      "metadata": {
        "execution": {
          "iopub.status.busy": "2024-04-05T14:21:12.775076Z",
          "iopub.execute_input": "2024-04-05T14:21:12.77534Z",
          "iopub.status.idle": "2024-04-05T14:21:12.784954Z",
          "shell.execute_reply.started": "2024-04-05T14:21:12.775317Z",
          "shell.execute_reply": "2024-04-05T14:21:12.78415Z"
        },
        "trusted": true,
        "id": "dsy_wxl1lgk-"
      },
      "execution_count": null,
      "outputs": []
    },
    {
      "cell_type": "code",
      "source": [
        "cv_estimators = [\n",
        "    ('lgbm', LGBMRegressor(**lgbm_params)),\n",
        "    ('xgboost', XGBRegressor(**xgboost_params)),\n",
        "    ('catboost', CatBoostRegressor(**catboost_params))\n",
        "]"
      ],
      "metadata": {
        "execution": {
          "iopub.status.busy": "2024-04-05T14:21:12.786051Z",
          "iopub.execute_input": "2024-04-05T14:21:12.786418Z",
          "iopub.status.idle": "2024-04-05T14:21:12.800413Z",
          "shell.execute_reply.started": "2024-04-05T14:21:12.78639Z",
          "shell.execute_reply": "2024-04-05T14:21:12.799539Z"
        },
        "trusted": true,
        "id": "6YVbPnb5lgk_"
      },
      "execution_count": null,
      "outputs": []
    },
    {
      "cell_type": "code",
      "source": [
        "%%time\n",
        "\n",
        "\n",
        "def objective(trial):\n",
        "\n",
        "    params = {\n",
        "        'lgbm_weight': trial.suggest_float('lgbm_weight', 0.0, 5.0),\n",
        "        'xgboost_weight': trial.suggest_float('xgboost_weight', 0.0, 5.0),\n",
        "        'catboost_weight': trial.suggest_float('catboost_weight', 0.0, 5.0),\n",
        "    }\n",
        "\n",
        "\n",
        "    cv = StratifiedKFold(n_splits=5, shuffle=True, random_state=RANDOM_SEED)\n",
        "    scores = []\n",
        "    for _, (train_index, valid_index) in enumerate(cv.split(train, y)):\n",
        "        X_train, y_train = train.iloc[train_index], y_log.iloc[train_index]\n",
        "        X_valid, y_valid = train.iloc[valid_index], y_log.iloc[valid_index]\n",
        "        voting_regressor = VotingRegressor(\n",
        "            estimators=cv_estimators,\n",
        "            weights=[params['lgbm_weight'], params['xgboost_weight'], params['catboost_weight']]\n",
        "        )\n",
        "        voting_regressor.fit(X_train, y_train)\n",
        "        y_pred = voting_regressor.predict(X_valid)\n",
        "        scores = root_mean_squared_error(y_valid, y_pred)\n",
        "    return np.mean(scores)\n",
        "\n",
        "\n",
        "study = optuna.create_study(direction='minimize', study_name=\"voting_regressor_optuna\")\n",
        "if FIND_BEST_PARAMS:\n",
        "    study.optimize(objective, n_trials=100)\n",
        "    print(f\"Best trial average RMSE: {study.best_value:.4f}\")\n",
        "    for key, value in study.best_params.items():\n",
        "        print(f\"{key}: {value}\")\n"
      ],
      "metadata": {
        "execution": {
          "iopub.status.busy": "2024-04-05T14:21:12.801307Z",
          "iopub.execute_input": "2024-04-05T14:21:12.801592Z",
          "iopub.status.idle": "2024-04-05T14:21:12.815468Z",
          "shell.execute_reply.started": "2024-04-05T14:21:12.80157Z",
          "shell.execute_reply": "2024-04-05T14:21:12.81456Z"
        },
        "trusted": true,
        "id": "9Ti3qzR7lgk_",
        "outputId": "6d829c22-4e5c-4015-a785-1bee885ed5c1"
      },
      "execution_count": null,
      "outputs": [
        {
          "name": "stderr",
          "text": "[I 2024-04-05 14:21:12,809] A new study created in memory with name: voting_regressor_optuna\n",
          "output_type": "stream"
        },
        {
          "name": "stdout",
          "text": "CPU times: user 1.28 ms, sys: 0 ns, total: 1.28 ms\nWall time: 1 ms\n",
          "output_type": "stream"
        }
      ]
    },
    {
      "cell_type": "code",
      "source": [
        "%%time\n",
        "\n",
        "weight_best_params = {\n",
        "    'lgbm_weight': 3.0860711610688636,\n",
        "    'xgboost_weight': 1.793424750707662,\n",
        "    'catboost_weight': 4.59273791580418\n",
        "}\n",
        "\n",
        "\n",
        "voting_regressor = VotingRegressor(\n",
        "    estimators=cv_estimators,\n",
        "    weights=[ weight_best_params['lgbm_weight'],\n",
        "              weight_best_params['xgboost_weight'],\n",
        "              weight_best_params['catboost_weight']\n",
        "    ]\n",
        ")\n",
        "\n",
        "cv = StratifiedKFold(n_splits=5, shuffle=True, random_state=RANDOM_SEED)\n",
        "scores = []\n",
        "y_pred_test = []\n",
        "for fold_i, (train_index, valid_index) in enumerate(cv.split(train, y)):\n",
        "    X_train, y_train = train.iloc[train_index], y_log.iloc[train_index]\n",
        "    X_valid, y_valid = train.iloc[valid_index], y_log.iloc[valid_index]\n",
        "    voting_regressor.fit(X_train, y_train)\n",
        "    y_pred = voting_regressor.predict(X_valid)\n",
        "    scores = root_mean_squared_error(y_valid, y_pred)\n",
        "    y_pred_test.append(voting_regressor.predict(test))\n",
        "    print(f\"FOLD {fold_i} Done. RMSE : {scores}\")\n",
        "print(f\"All FOLD. Mean RMSE : {np.mean(scores)}\")"
      ],
      "metadata": {
        "execution": {
          "iopub.status.busy": "2024-04-05T14:21:12.816634Z",
          "iopub.execute_input": "2024-04-05T14:21:12.817364Z",
          "iopub.status.idle": "2024-04-05T14:22:41.35591Z",
          "shell.execute_reply.started": "2024-04-05T14:21:12.817334Z",
          "shell.execute_reply": "2024-04-05T14:22:41.354912Z"
        },
        "trusted": true,
        "id": "7LypX8iXlgk_",
        "outputId": "65e9d81a-6dad-4ce7-c0ea-5f2a33e508d5"
      },
      "execution_count": null,
      "outputs": [
        {
          "name": "stderr",
          "text": "1 warning generated.\n1 warning generated.\n1 warning generated.\n1 warning generated.\n1 warning generated.\n1 warning generated.\n1 warning generated.\n1 warning generated.\n1 warning generated.\n1 warning generated.\n1 warning generated.\n1 warning generated.\n1 warning generated.\n1 warning generated.\n1 warning generated.\n1 warning generated.\n1 warning generated.\n1 warning generated.\n1 warning generated.\n1 warning generated.\n1 warning generated.\n1 warning generated.\n1 warning generated.\n1 warning generated.\n1 warning generated.\n1 warning generated.\n1 warning generated.\n1 warning generated.\n1 warning generated.\n1 warning generated.\n1 warning generated.\n1 warning generated.\n1 warning generated.\n",
          "output_type": "stream"
        },
        {
          "name": "stdout",
          "text": "FOLD 0 Done. RMSE : 0.14864280090415702\nFOLD 1 Done. RMSE : 0.14720041945471446\nFOLD 2 Done. RMSE : 0.14836659926410167\nFOLD 3 Done. RMSE : 0.1494904817849813\nFOLD 4 Done. RMSE : 0.1482838011215943\nAll FOLD. Mean RMSE : 0.1482838011215943\nCPU times: user 2min 14s, sys: 15.8 s, total: 2min 30s\nWall time: 1min 28s\n",
          "output_type": "stream"
        }
      ]
    },
    {
      "cell_type": "code",
      "source": [
        "predictions = np.mean(y_pred_test, axis=0)\n",
        "sub  = pd.DataFrame(columns = ['id', 'Rings'])\n",
        "sub['id'] = test_id\n",
        "sub['Rings'] = np.exp(predictions)-1\n",
        "sub.to_csv('submission.csv', index = False)"
      ],
      "metadata": {
        "execution": {
          "iopub.status.busy": "2024-04-05T14:22:57.134109Z",
          "iopub.execute_input": "2024-04-05T14:22:57.134488Z",
          "iopub.status.idle": "2024-04-05T14:22:57.314149Z",
          "shell.execute_reply.started": "2024-04-05T14:22:57.134459Z",
          "shell.execute_reply": "2024-04-05T14:22:57.313279Z"
        },
        "trusted": true,
        "id": "qSdGAd7klgk_"
      },
      "execution_count": null,
      "outputs": []
    }
  ]
}